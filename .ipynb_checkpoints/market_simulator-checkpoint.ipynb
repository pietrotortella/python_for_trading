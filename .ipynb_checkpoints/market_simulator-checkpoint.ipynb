{
 "cells": [
  {
   "cell_type": "code",
   "execution_count": 32,
   "metadata": {
    "collapsed": false
   },
   "outputs": [],
   "source": [
    "import os\n",
    "import pandas as pd\n",
    "import numpy as np\n",
    "import time\n",
    "import random\n",
    "import datetime\n",
    "import matplotlib.pyplot as plt\n",
    "import scipy.optimize as spo\n",
    "import urllib.request\n",
    "import urllib.error"
   ]
  },
  {
   "cell_type": "code",
   "execution_count": 40,
   "metadata": {
    "collapsed": true
   },
   "outputs": [],
   "source": [
    "def symbol_to_path(symbol, base_dir='C:/Users/Pietro T/Documenti/ML_and_finance/exercises/data'):\n",
    "    \"\"\"Returns the file path given the symbol\"\"\"\n",
    "    return os.path.join(base_dir, '{}.csv'.format(str(symbol)))\n",
    "\n",
    "\n",
    "def normalize_data(df):\n",
    "    '''Normalize stock prices to have initial value equal to 1'''\n",
    "    return df/df.ix[0,:]\n",
    "\n",
    "\n",
    "def get_data(symbo, dates, col='Adj Close'):\n",
    "    \"\"\"\"For the given sybols, returns the values of cols in the range dates\"\"\"\n",
    "    df = pd.DataFrame(index=dates)\n",
    "    symbols = symbo.copy()\n",
    "    if 'SPY' not in symbols:\n",
    "        symbols.insert(0, 'SPY')\n",
    "    \n",
    "    for s in symbols:\n",
    "        df_temp = pd.read_csv(symbol_to_path(s), index_col='Date', parse_dates=True, usecols=['Date', col],\n",
    "                         na_values=['nan'])\n",
    "    \n",
    "        df_temp = df_temp.rename(columns={col:s})\n",
    "        df = df.join(df_temp)\n",
    "        \n",
    "        if s == 'SPY':\n",
    "            df = df.dropna(subset=['SPY'])\n",
    "        \n",
    "    df.fillna(method='ffill', inplace=True)\n",
    "    df.fillna(method='bfill', inplace=True)\n",
    "    \n",
    "    return df\n",
    "\n",
    "\n",
    "def get_symbols_from_txt(filename):\n",
    "    \"\"\"Read a list of symbols from a file to a list\"\"\"\n",
    "    f = open(filename)\n",
    "    sy = f.read().splitlines()\n",
    "    f.close()\n",
    "    \n",
    "    return sy\n",
    "\n",
    "\n",
    "def plot_data(df, title='Stock prices'):\n",
    "    '''Plot stock prices in df, with title'''\n",
    "    ax = df.plot(title=title, fontsize=10)\n",
    "    ax.set_xlabel('Date')\n",
    "    ax.set_ylabel('Price')\n",
    "  \n",
    "    return ax\n",
    "\n",
    "\n",
    "def plot_selected(df, columns, start_index, end_index, title='Stock prices'):\n",
    "    '''Plot desired columns, in desired range'''\n",
    "    ax = df.ix[start_index:end_index, columns].plot(title=title, fontsize=10)\n",
    "    ax.set_xlabel('Date')\n",
    "    ax.set_ylabel('Price')\n",
    "    \n",
    "    plt.show()\n",
    "    \n",
    "\n",
    "def download_one(the_url, the_name):\n",
    "    try:\n",
    "        urllib.request.urlretrieve(the_url, the_name)\n",
    "        \n",
    "    except urllib.error.HTTPError:\n",
    "        print(the_url, 'not found')\n",
    "\n",
    "\n",
    "def download_from_symbols_list(syms, \n",
    "                              base_url='http://ichart.finance.yahoo.com/table.csv?d=12&e=31&f=2015&g=d&a=7&b=19&c=2004%20&ignore=.csv&s=', \n",
    "                              base_where = 'C:/Users/Pietro T/Documenti/ML_and_finance/exercises/data2/'):\n",
    "    for i in range(len(syms)):\n",
    "        download_one(base_url + syms[i], base_where+syms[i] + '.csv')\n",
    "        if i % 10 == 0:\n",
    "            print('Downloading file ', i, ' out of ', len(syms))\n"
   ]
  },
  {
   "cell_type": "code",
   "execution_count": null,
   "metadata": {
    "collapsed": false,
    "scrolled": true
   },
   "outputs": [],
   "source": [
    "class Portfolio:\n",
    "    def __init__(self, ):\n",
    "        \"\"\"\"\"\"\n",
    "        \n",
    "        \n",
    "    \n",
    "    def execute_order(self, date, symbol, is_buy, amount):\n",
    "        try:\n",
    "            dates = pd.date_range(date, date)\n",
    "            asset_value = get_value_from_csv(symbol, date)\n",
    "            \n",
    "            if is_buy and self.amount[symbol] >= 0:\n",
    "                self.amount[symbol] += amount\n",
    "                self.amount['Cash'] -= amount * asset['Adj Close']\n",
    "            elif not is_buy and self.amount[symbol] <= 0:\n",
    "                self.amount[symbol] -= amount\n",
    "                self.amount['Cash'] -= amount * asset['Adj Close']\n",
    "        pass\n",
    "    \n",
    "    \n",
    "    def update_value(self):\n",
    "        pass\n",
    "    \n",
    "    \n",
    "    def get_sharp_ratio(self, daily_rfrate = 0):\n",
    "        \"\"\"Computes the sharp ratio of the portfolio, over the whole period\"\"\"\n",
    "        return  np.sqrt(252) * (self.daily_returns['Value'] - daily_rfrate).mean()  / self.daily_returns['Value'].std()\n",
    "    \n",
    "    \n",
    "    def get_mean_daily_returns(self):\n",
    "        \"\"\"Computes the mean of the daily return of the portfolio, over the whole period\"\"\"\n",
    "        return self.daily_returns['Value'].mean()\n",
    "    \n",
    "    \n",
    "    def get_cumulative_returns(self):\n",
    "        \"\"\"Computes the cumulative return of the portfolio, over the wole period\"\"\"\n",
    "        return self.data_frame['Value']\n",
    "    \n",
    "    \n",
    "    def get_risk(self):\n",
    "        \"\"\"Computes the risk of the portfolio, over the whole period\"\"\"\n",
    "        return self.daily_returns['Value'].std()\n",
    "    \n",
    "    \n",
    "    def plot_data_now(self):\n",
    "        \"\"\"Plots the underlying assets\"\"\"\n",
    "        plot_data(self.data_frame)\n",
    "        plt.show()\n",
    "        \n",
    "    \n",
    "    def plot_daily_returns_now(self, col=['Value']):\n",
    "        \"\"\"Plots the daily returns of the underlying\"\"\"\n",
    "        plot_data(self.daily_returns[col])\n",
    "        plt.show()"
   ]
  },
  {
   "cell_type": "code",
   "execution_count": null,
   "metadata": {
    "collapsed": false
   },
   "outputs": [],
   "source": []
  },
  {
   "cell_type": "code",
   "execution_count": null,
   "metadata": {
    "collapsed": false,
    "scrolled": true
   },
   "outputs": [],
   "source": []
  },
  {
   "cell_type": "code",
   "execution_count": null,
   "metadata": {
    "collapsed": false
   },
   "outputs": [],
   "source": []
  },
  {
   "cell_type": "code",
   "execution_count": null,
   "metadata": {
    "collapsed": false,
    "scrolled": false
   },
   "outputs": [],
   "source": []
  },
  {
   "cell_type": "code",
   "execution_count": null,
   "metadata": {
    "collapsed": false
   },
   "outputs": [],
   "source": []
  },
  {
   "cell_type": "code",
   "execution_count": null,
   "metadata": {
    "collapsed": false
   },
   "outputs": [],
   "source": []
  },
  {
   "cell_type": "code",
   "execution_count": null,
   "metadata": {
    "collapsed": false
   },
   "outputs": [],
   "source": []
  }
 ],
 "metadata": {
  "kernelspec": {
   "display_name": "Python 3",
   "language": "python",
   "name": "python3"
  },
  "language_info": {
   "codemirror_mode": {
    "name": "ipython",
    "version": 3
   },
   "file_extension": ".py",
   "mimetype": "text/x-python",
   "name": "python",
   "nbconvert_exporter": "python",
   "pygments_lexer": "ipython3",
   "version": "3.5.1"
  }
 },
 "nbformat": 4,
 "nbformat_minor": 0
}
