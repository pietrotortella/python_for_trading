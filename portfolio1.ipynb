{
 "cells": [
  {
   "cell_type": "code",
   "execution_count": 120,
   "metadata": {
    "collapsed": false
   },
   "outputs": [],
   "source": [
    "import os\n",
    "import pandas as pd\n",
    "import numpy as np\n",
    "import time\n",
    "import random\n",
    "import datetime\n",
    "import matplotlib.pyplot as plt\n",
    "import scipy.optimize as spo"
   ]
  },
  {
   "cell_type": "code",
   "execution_count": 140,
   "metadata": {
    "collapsed": true
   },
   "outputs": [],
   "source": [
    "def symbol_to_path(symbol, base_dir='C:/Users/Pietro T/Documenti/ML_and_finance/exercises/data'):\n",
    "    \"\"\"Returns the file path given the symbol\"\"\"\n",
    "    return os.path.join(base_dir, '{}.csv'.format(str(symbol)))\n",
    "\n",
    "\n",
    "def normalize_data(df):\n",
    "    '''Normalize stock prices to have initial value equal to 1'''\n",
    "    return df/df.ix[0,:]"
   ]
  },
  {
   "cell_type": "code",
   "execution_count": 64,
   "metadata": {
    "collapsed": true
   },
   "outputs": [],
   "source": [
    "def get_data(symbols, dates, col='Adj Close'):\n",
    "    \"\"\"\"For the given sybols, returns the values of cols in the range dates\"\"\"\n",
    "    df = pd.DataFrame(index=dates)\n",
    "    if 'SPY' not in symbols:\n",
    "        symbols.insert(0, 'SPY')\n",
    "    \n",
    "    for s in symbols:\n",
    "        df_temp = pd.read_csv(symbol_to_path(s), index_col='Date', parse_dates=True, usecols=['Date', col],\n",
    "                         na_values=['nan'])\n",
    "    \n",
    "        df_temp = df_temp.rename(columns={col:s})\n",
    "        df = df.join(df_temp)\n",
    "        \n",
    "        if s == 'SPY':\n",
    "            df = df.dropna(subset=['SPY'])\n",
    "        \n",
    "#    df.fillna(method='ffill', inplace=True)\n",
    "#    df.fillna(method='bfill', inplace=True)\n",
    "    \n",
    "    return df\n",
    "\n",
    "\n",
    "def plot_data(df, title='Stock prices'):\n",
    "    '''Plot stock prices in df, with title'''\n",
    "    ax = df.plot(title=title, fontsize=10)\n",
    "    ax.set_xlabel('Date')\n",
    "    ax.set_ylabel('Price')\n",
    "  \n",
    "    return ax\n",
    "\n",
    "\n",
    "def plot_selected(df, columns, start_index, end_index, title='Stock prices'):\n",
    "    '''Plot desired columns, in desired range'''\n",
    "    ax = df.ix[start_index:end_index, columns].plot(title=title, fontsize=10)\n",
    "    ax.set_xlabel('Date')\n",
    "    ax.set_ylabel('Price')\n",
    "    \n",
    "    plt.show()"
   ]
  },
  {
   "cell_type": "code",
   "execution_count": 4,
   "metadata": {
    "collapsed": false
   },
   "outputs": [],
   "source": [
    "def get_bollinger_bands(rm, rstd):\n",
    "    upper = rm + 2*rstd\n",
    "    lower = rm - 2*rstd\n",
    "    \n",
    "    return upper, lower\n",
    "\n",
    "\n",
    "def get_daily_returns(df):\n",
    "    dr = df.copy()\n",
    "    dr = (df/ df.shift(1)) - 1\n",
    "    dr.ix[0,:] = 0\n",
    "    \n",
    "    return dr"
   ]
  },
  {
   "cell_type": "code",
   "execution_count": 38,
   "metadata": {
    "collapsed": false
   },
   "outputs": [],
   "source": [
    "class Portfolio:\n",
    "    def __init__(self, start_date=datetime.date.today(), end_date=datetime.date.today(), symbols=None, allocation=None):\n",
    "        \"\"\"Portfolio object. It is initialized by a list of symbols, that represents the stocks it has a partecipation; \n",
    "        allocation should be a dict, with keys equal to symbols\"\"\"\n",
    "        \n",
    "        #Initialization of the portfolio values. 'RiFr' stands for the risk free part, where all unused allocations goes.\n",
    "        self.symbols = symbols + ['RiFr']\n",
    "        self.allocation = dict()\n",
    "        for sym in symbols:\n",
    "            if allocation.get(sym) is not None:\n",
    "                self.allocation[sym] = allocation[sym]\n",
    "        self.allocation['RiFr'] = 1 - sum(allocation.values())\n",
    "        \n",
    "        #valid value checks if the portfolio is valid. First check if the allocations sums at most one\n",
    "        self.valid = True\n",
    "        if self.allocation['RiFr'] < 0:\n",
    "            print('Portfolio allocation value invalid: sum of allocations greater than one')\n",
    "            self.valid = False\n",
    "        \n",
    "        #Initialize the stocks data of the portfolio\n",
    "        self.dates = pd.date_range(start_date, end_date)\n",
    "        self.data_frame = get_data(symbols, self.dates)\n",
    "        self.data_frame = normalize_data(self.data_frame)\n",
    "        \n",
    "        #Add to the data_frame the risk free lending interest, that for the moment we assume = 1\n",
    "        self.risk_free_value = pd.DataFrame(index=self.dates, columns=['RiFr'])\n",
    "        self.risk_free_value['RiFr'] = 1\n",
    "        self.data_frame = self.data_frame.join(self.risk_free_value, how='inner')\n",
    "        \n",
    "        #computes the value of the portfolio\n",
    "        self.value = pd.DataFrame(index=self.dates, columns=['Value'])\n",
    "        self.value['Value'] = 0\n",
    "        for s in self.symbols:\n",
    "            if self.allocation.get(s) is not None:\n",
    "                self.value['Value'] += self.allocation[s] * self.data_frame[s]\n",
    "        self.data_frame = self.data_frame.join(self.value, how='inner')\n",
    "\n",
    "        #computes the daily returns of the variables\n",
    "        self.daily_returns = get_daily_returns(self.data_frame)\n",
    "        \n",
    "    \n",
    "    def get_sharp_ratio(self, daily_rfrate = 0):\n",
    "        \"\"\"Computes the sharp ratio of the portfolio, over the whole period\"\"\"\n",
    "        return  np.sqrt(252) * (self.daily_returns['Value'] - daily_rfrate).mean()  / self.daily_returns['Value'].std()\n",
    "    \n",
    "    \n",
    "    def get_mean_daily_returns(self):\n",
    "        \"\"\"Computes the mean of the daily return of the portfolio, over the whole period\"\"\"\n",
    "        return self.daily_returns['Value'].mean()\n",
    "    \n",
    "    \n",
    "    def get_cumulative_returns(self):\n",
    "        \"\"\"Computes the cumulative return of the portfolio, over the wole period\"\"\"\n",
    "        return self.data_frame['Value']\n",
    "    \n",
    "    \n",
    "    def get_risk(self):\n",
    "        \"\"\"Computes the risk of the portfolio, over the whole period\"\"\"\n",
    "        return self.daily_returns['Value'].std()\n",
    "    \n",
    "    \n",
    "    def plot_data_now(self):\n",
    "        \"\"\"Plots the underlying assets\"\"\"\n",
    "        plot_data(self.data_frame)\n",
    "        plt.show()\n",
    "        \n",
    "    \n",
    "    def plot_daily_returns_now(self, col=['Value']):\n",
    "        \"\"\"Plots the daily returns of the underlying\"\"\"\n",
    "        plot_data(self.daily_returns[col])\n",
    "        plt.show()\n",
    "        "
   ]
  },
  {
   "cell_type": "code",
   "execution_count": 18,
   "metadata": {
    "collapsed": false
   },
   "outputs": [],
   "source": [
    "def maximize_sharp_ratio(s_date, e_date, lsymbols):\n",
    "    \"\"\"Maximize a portfolio on assets given by symbols, between dates, w.r.t. the sharp ratio\"\"\"\n",
    "    n_stocks = len(lsymbols)\n",
    "    alloc0 = np.zeros(n_stocks)\n",
    "    \n",
    "    for s in range(n_stocks):\n",
    "        alloc0[s] = random.random()/n_stocks\n",
    "    \n",
    "    def con(X):\n",
    "        return 0.999 - X.sum() \n",
    "    def cos_pos(X):\n",
    "        return X - 0.0001\n",
    "    cons = [{'type': 'ineq', 'fun': con}, {'type': 'ineq', 'fun': cos_pos}]\n",
    "    \n",
    "    def sr(X):\n",
    "        loc_alloc = dict()\n",
    "        for s in lsymbols:\n",
    "            loc_alloc[s] = X[lsymbols.index(s)]\n",
    "        pf = Portfolio(s_date, e_date, lsymbols, loc_alloc)\n",
    "        print(pf.get_sharp_ratio())\n",
    "        return - pf.get_sharp_ratio()\n",
    "    \n",
    "    result = spo.minimize(sr, alloc0, constraints=cons, method='SLSQP')\n",
    "    \n",
    "    return result\n"
   ]
  },
  {
   "cell_type": "code",
   "execution_count": 116,
   "metadata": {
    "collapsed": false,
    "scrolled": false
   },
   "outputs": [],
   "source": [
    "def get_symbols_from_txt(filename):\n",
    "    \"\"\"Read a list of symbols from a file to a list\"\"\"\n",
    "    f = open(filename)\n",
    "    sy = f.read().splitlines()\n",
    "    f.close()\n",
    "    \n",
    "    return sy\n",
    "\n",
    "\n",
    "def check_file(file_name):\n",
    "    exists = False\n",
    "    try:\n",
    "        f = open(file_name)\n",
    "        exists = True\n",
    "        f.close()\n",
    "    except FileNotFoundError:\n",
    "        print('File ', file_name, 'not found. ')\n",
    "    return exists\n",
    "\n",
    "\n",
    "def check_symbol_list(lsymbols):\n",
    "    for s in lsymbols:\n",
    "        file_n = symbol_to_path(s)\n",
    "        s_exists = check_file(file_n)\n",
    "        if not s_exists:\n",
    "            lsymbols.remove(s)\n",
    "    \n",
    "    return lsymbols"
   ]
  },
  {
   "cell_type": "code",
   "execution_count": 98,
   "metadata": {
    "collapsed": false
   },
   "outputs": [],
   "source": []
  },
  {
   "cell_type": "code",
   "execution_count": 129,
   "metadata": {
    "collapsed": false
   },
   "outputs": [],
   "source": [
    "s_date = '2015-01-01'\n",
    "e_date = '2015-12-31'"
   ]
  },
  {
   "cell_type": "code",
   "execution_count": null,
   "metadata": {
    "collapsed": false,
    "scrolled": true
   },
   "outputs": [],
   "source": []
  },
  {
   "cell_type": "code",
   "execution_count": null,
   "metadata": {
    "collapsed": false
   },
   "outputs": [],
   "source": []
  },
  {
   "cell_type": "code",
   "execution_count": null,
   "metadata": {
    "collapsed": false,
    "scrolled": false
   },
   "outputs": [],
   "source": []
  },
  {
   "cell_type": "code",
   "execution_count": 138,
   "metadata": {
    "collapsed": false,
    "scrolled": true
   },
   "outputs": [],
   "source": [
    "ddf = get_data(symboloni, pd.date_range(s_date, e_date))"
   ]
  },
  {
   "cell_type": "code",
   "execution_count": null,
   "metadata": {
    "collapsed": false,
    "scrolled": true
   },
   "outputs": [],
   "source": []
  },
  {
   "cell_type": "code",
   "execution_count": null,
   "metadata": {
    "collapsed": false
   },
   "outputs": [],
   "source": []
  },
  {
   "cell_type": "code",
   "execution_count": null,
   "metadata": {
    "collapsed": false
   },
   "outputs": [],
   "source": [
    "\n"
   ]
  },
  {
   "cell_type": "code",
   "execution_count": null,
   "metadata": {
    "collapsed": false
   },
   "outputs": [],
   "source": []
  },
  {
   "cell_type": "code",
   "execution_count": null,
   "metadata": {
    "collapsed": false
   },
   "outputs": [],
   "source": []
  },
  {
   "cell_type": "code",
   "execution_count": 1,
   "metadata": {
    "collapsed": false
   },
   "outputs": [
    {
     "name": "stdout",
     "output_type": "stream",
     "text": [
      "Interactive namespace is empty.\n"
     ]
    }
   ],
   "source": [
    "whos"
   ]
  }
 ],
 "metadata": {
  "kernelspec": {
   "display_name": "Python 3",
   "language": "python",
   "name": "python3"
  },
  "language_info": {
   "codemirror_mode": {
    "name": "ipython",
    "version": 3
   },
   "file_extension": ".py",
   "mimetype": "text/x-python",
   "name": "python",
   "nbconvert_exporter": "python",
   "pygments_lexer": "ipython3",
   "version": "3.5.1"
  }
 },
 "nbformat": 4,
 "nbformat_minor": 0
}
