{
 "cells": [
  {
   "cell_type": "code",
   "execution_count": 53,
   "metadata": {
    "collapsed": false
   },
   "outputs": [],
   "source": [
    "import os\n",
    "import pandas as pd\n",
    "import numpy as np\n",
    "import time\n",
    "import matplotlib.pyplot as plt"
   ]
  },
  {
   "cell_type": "code",
   "execution_count": 2,
   "metadata": {
    "collapsed": true
   },
   "outputs": [],
   "source": [
    "def symbol_to_path(symbol, base_dir='C:/Users/Pietro T/Ipython notebooks/Py-Fi/data'):\n",
    "    \"\"\"Returns the file path given the symbol\"\"\"\n",
    "    return os.path.join(base_dir, '{}.csv'.format(str(symbol)))"
   ]
  },
  {
   "cell_type": "code",
   "execution_count": 145,
   "metadata": {
    "collapsed": true
   },
   "outputs": [],
   "source": [
    "def get_data(symbols, dates, col='Adj Close'):\n",
    "    \"\"\"\"For the given sybols, returns the values of cols in the range dates\"\"\"\n",
    "    df = pd.DataFrame(index=dates)\n",
    "    if 'SPY' not in symbols:\n",
    "        symbols.insert(0, 'SPY')\n",
    "    \n",
    "    for s in symbols:\n",
    "        df_temp = pd.read_csv(symbol_to_path(s), index_col='Date', parse_dates=True, usecols=['Date', col],\n",
    "                         na_values=['nan'])\n",
    "    \n",
    "        df_temp = df_temp.rename(columns={col:s})\n",
    "        df = df.join(df_temp)\n",
    "        \n",
    "        if s == 'SPY':\n",
    "            df = df.dropna(subset=['SPY'])\n",
    "        \n",
    "    df.fillna(method='ffill', inplace=True)\n",
    "    df.fillna(method='bfill', inplace=True)\n",
    "    \n",
    "    return df"
   ]
  },
  {
   "cell_type": "code",
   "execution_count": 87,
   "metadata": {
    "collapsed": true
   },
   "outputs": [],
   "source": [
    "def plot_data(df, title='Stock prices'):\n",
    "    '''Plot stock prices in df, with title'''\n",
    "    ax = df.plot(title=title, fontsize=10)\n",
    "    ax.set_xlabel('Date')\n",
    "    ax.set_ylabel('Price')\n",
    "  #  plt.show()\n",
    "    return ax"
   ]
  },
  {
   "cell_type": "code",
   "execution_count": 45,
   "metadata": {
    "collapsed": false
   },
   "outputs": [],
   "source": [
    "def plot_selected(df, columns, start_index, end_index, title='Stock prices'):\n",
    "    '''Plot desired columns, in desired range'''\n",
    "    ax = df.ix[start_index:end_index, columns].plot(title=title, fontsize=10)\n",
    "    ax.set_xlabel('Date')\n",
    "    ax.set_ylabel('Price')\n",
    "    \n",
    "    plt.show()"
   ]
  },
  {
   "cell_type": "code",
   "execution_count": 47,
   "metadata": {
    "collapsed": true
   },
   "outputs": [],
   "source": [
    "def normalize_data(df):\n",
    "    '''Normalize stock prices to have initial value equal to 1'''\n",
    "    return df/df.ix[0,:]"
   ]
  },
  {
   "cell_type": "code",
   "execution_count": 16,
   "metadata": {
    "collapsed": false
   },
   "outputs": [],
   "source": [
    "start_date = '2010-01-01'\n",
    "end_date = '2010-12-31'\n",
    "\n",
    "dates = pd.date_range(start_date, end_date)\n"
   ]
  },
  {
   "cell_type": "code",
   "execution_count": 34,
   "metadata": {
    "collapsed": false
   },
   "outputs": [],
   "source": [
    "dfone = get_data(['GOO', 'APP'], dates)\n"
   ]
  },
  {
   "cell_type": "code",
   "execution_count": 48,
   "metadata": {
    "collapsed": false
   },
   "outputs": [],
   "source": [
    "plot_data(normalize_data(dfone))"
   ]
  },
  {
   "cell_type": "code",
   "execution_count": 95,
   "metadata": {
    "collapsed": false
   },
   "outputs": [],
   "source": [
    "def get_bollinger_bands(rm, rstd):\n",
    "    upper = rm + 2*rstd\n",
    "    lower = rm - 2*rstd\n",
    "    \n",
    "    return upper, lower"
   ]
  },
  {
   "cell_type": "code",
   "execution_count": 143,
   "metadata": {
    "collapsed": true
   },
   "outputs": [],
   "source": [
    "def get_daily_returns(df):\n",
    "    dr = df.copy()\n",
    "    dr = (df/ df.shift(1)) - 1\n",
    "    dr.ix[0,:] = 0\n",
    "    \n",
    "    return dr    "
   ]
  },
  {
   "cell_type": "code",
   "execution_count": 71,
   "metadata": {
    "collapsed": false
   },
   "outputs": [],
   "source": [
    "dates2 = pd.date_range('2012-01-01', '2012-12-31')\n",
    "df = get_data(['SPY'], dates2)"
   ]
  },
  {
   "cell_type": "code",
   "execution_count": 99,
   "metadata": {
    "collapsed": false,
    "scrolled": true
   },
   "outputs": [],
   "source": [
    "ax = plot_data(df)"
   ]
  },
  {
   "cell_type": "code",
   "execution_count": 93,
   "metadata": {
    "collapsed": true
   },
   "outputs": [],
   "source": [
    "rm_SPY = pd.rolling_mean(df['SPY'], window=20)\n",
    "rstd_SPY = pd.rolling_std(df['SPY'], window=20)"
   ]
  },
  {
   "cell_type": "code",
   "execution_count": 96,
   "metadata": {
    "collapsed": false
   },
   "outputs": [],
   "source": [
    "bb_u, bb_l = get_bollinger_bands(rm_SPY, rstd_SPY)"
   ]
  },
  {
   "cell_type": "code",
   "execution_count": 100,
   "metadata": {
    "collapsed": false
   },
   "outputs": [
    {
     "data": {
      "text/plain": [
       "<matplotlib.axes._subplots.AxesSubplot at 0xbfa6008fd0>"
      ]
     },
     "execution_count": 100,
     "metadata": {},
     "output_type": "execute_result"
    }
   ],
   "source": [
    "rm_SPY.plot(label='Rolling mean', ax=ax)\n",
    "bb_u.plot(label='Upper Bollinger', ax=ax)\n",
    "bb_l.plot(label='Lower Bollinger', ax=ax)"
   ]
  },
  {
   "cell_type": "code",
   "execution_count": 101,
   "metadata": {
    "collapsed": false
   },
   "outputs": [],
   "source": [
    "ax.legend(loc='upper left')\n",
    "plt.show()"
   ]
  },
  {
   "cell_type": "code",
   "execution_count": 144,
   "metadata": {
    "collapsed": false
   },
   "outputs": [],
   "source": [
    "dr = get_daily_returns(df)\n",
    "dr.plot()\n",
    "plt.show()"
   ]
  },
  {
   "cell_type": "code",
   "execution_count": 147,
   "metadata": {
    "collapsed": true
   },
   "outputs": [],
   "source": [
    "dr.hist(bins=100)\n",
    "plt.show()"
   ]
  }
 ],
 "metadata": {
  "kernelspec": {
   "display_name": "Python 3",
   "language": "python",
   "name": "python3"
  },
  "language_info": {
   "codemirror_mode": {
    "name": "ipython",
    "version": 3
   },
   "file_extension": ".py",
   "mimetype": "text/x-python",
   "name": "python",
   "nbconvert_exporter": "python",
   "pygments_lexer": "ipython3",
   "version": "3.5.1"
  }
 },
 "nbformat": 4,
 "nbformat_minor": 0
}
